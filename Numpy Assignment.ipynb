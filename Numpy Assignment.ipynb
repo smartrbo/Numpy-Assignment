{
 "cells": [
  {
   "cell_type": "code",
   "execution_count": 2,
   "id": "c0167ed1-7b20-4a70-a456-331a45835262",
   "metadata": {},
   "outputs": [],
   "source": [
    "import numpy as np"
   ]
  },
  {
   "cell_type": "markdown",
   "id": "0d1f9577-075b-4046-ab29-ad2cbf2686ce",
   "metadata": {},
   "source": [
    "1. What is a Python library? Why ^o we use Python libraries?\n",
    "Ans:\n",
    "A Python library is a collection of functions and modules that extend the capabilities of the Python programming language. These libraries are developed to provide specific functionalities to simplify common tasks, such as data manipulation, mathematical operations, web development, machine learning, and more.\n",
    "\n",
    "We use Python libraries for several reasons:\n",
    "\n",
    "Efficiency: Python libraries provide pre-written code that allows developers to accomplish tasks without having to reinvent the wheel. This saves time and effort in coding complex functionalities from scratch.\n",
    "\n",
    "Functionality: Libraries extend the capabilities of Python by providing ready-to-use functions and modules for various tasks. This allows developers to access a wide range of features without having to implement them independently.\n",
    "\n",
    "Community Support: Python has a large and active community of developers who contribute to the creation and maintenance of libraries. This community support ensures that libraries are continuously updated, improved, and well-documented.\n",
    "\n",
    "Specialized Tasks: Many Python libraries are designed to address specific domains or industries, such as data science, web development, scientific computing, etc. Using these specialized libraries allows developers to leverage domain-specific tools and techniques effectively.\n",
    "\n",
    "Interoperability: Python libraries are often designed to work well with other libraries and tools, promoting interoperability and allowing developers to combine different functionalities seamlessly."
   ]
  },
  {
   "cell_type": "markdown",
   "id": "c01c049f-faf8-4afd-a940-98fcf8f0d83c",
   "metadata": {},
   "source": [
    "2. What is the Difference between Numpy array an^ List?\n",
    "Ans:\n",
    "NumPy arrays and Python lists are both used to store collections of elements, but they have several differences in terms of functionality, performance, and usage:\n",
    "\n",
    "Data Types: NumPy arrays are homogeneous, meaning that all elements in the array must have the same data type. This allows for more efficient storage and operations on the array. Python lists, on the other hand, can contain elements of different data types.\n",
    "\n",
    "Performance: NumPy arrays are more efficient for numerical computations compared to Python lists. NumPy arrays are implemented in C and optimized for performance, whereas Python lists are implemented in Python itself, which can be slower for numerical computations, especially for large datasets.\n",
    "\n",
    "Memory Usage: NumPy arrays generally consume less memory compared to Python lists, especially for large datasets, because they store data in a contiguous block of memory. Python lists, on the other hand, store references to objects, which can consume more memory.\n",
    "\n",
    "Functionality: NumPy arrays provide a wide range of mathematical functions and operations for array manipulation, such as element-wise operations, linear algebra, Fourier transforms, statistical functions, etc. Python lists have fewer built-in functions for numerical computations and array manipulation.\n",
    "\n",
    "Ease of Use: Python lists are more versatile and easier to work with for general-purpose tasks due to their flexibility and dynamic nature. NumPy arrays are more specialized for numerical computations and may require more effort to work with for tasks outside this domain."
   ]
  },
  {
   "cell_type": "code",
   "execution_count": 3,
   "id": "e2878d62-2adb-455e-ac54-891cd3c7c659",
   "metadata": {},
   "outputs": [
    {
     "data": {
      "text/plain": [
       "array([[ 1,  2,  3,  4],\n",
       "       [ 5,  6,  7,  8],\n",
       "       [ 9, 10, 11, 12]])"
      ]
     },
     "execution_count": 3,
     "metadata": {},
     "output_type": "execute_result"
    }
   ],
   "source": [
    "#3. Fin^ the shape, size an^ ^imension of the following array?\n",
    "# [[1, 2, 3, 4]\n",
    "# [5, 6, 7, 8],\n",
    "# [9, 10, 11, 12]]\n",
    "arr1=np.array([[1,2,3,4],[5,6,7,8],[9,10,11,12]])\n",
    "arr1"
   ]
  },
  {
   "cell_type": "code",
   "execution_count": 4,
   "id": "f18db63f-ae4a-4914-9375-73d6b80797eb",
   "metadata": {},
   "outputs": [
    {
     "data": {
      "text/plain": [
       "(3, 4)"
      ]
     },
     "execution_count": 4,
     "metadata": {},
     "output_type": "execute_result"
    }
   ],
   "source": [
    "arr1.shape"
   ]
  },
  {
   "cell_type": "code",
   "execution_count": 5,
   "id": "39848361-e11f-4d0f-b024-867b1cec0459",
   "metadata": {},
   "outputs": [
    {
     "data": {
      "text/plain": [
       "12"
      ]
     },
     "execution_count": 5,
     "metadata": {},
     "output_type": "execute_result"
    }
   ],
   "source": [
    "arr1.size"
   ]
  },
  {
   "cell_type": "code",
   "execution_count": 6,
   "id": "7747eed7-7306-4a22-a5ef-b334cf000cfb",
   "metadata": {},
   "outputs": [
    {
     "data": {
      "text/plain": [
       "2"
      ]
     },
     "execution_count": 6,
     "metadata": {},
     "output_type": "execute_result"
    }
   ],
   "source": [
    "arr1.ndim"
   ]
  },
  {
   "cell_type": "code",
   "execution_count": 7,
   "id": "860437c5-f61c-473f-b6d1-747e12117aae",
   "metadata": {},
   "outputs": [
    {
     "data": {
      "text/plain": [
       "array([[ 1,  2,  3,  4],\n",
       "       [ 5,  6,  7,  8],\n",
       "       [ 9, 10, 11, 12]])"
      ]
     },
     "execution_count": 7,
     "metadata": {},
     "output_type": "execute_result"
    }
   ],
   "source": [
    "# 4. Write python co^e to access the first row of the following array?\n",
    "# [[1, 2, 3, 4]\n",
    "# [5, 6, 7, 8],\n",
    "# [9, 10, 11, 12]]\n",
    "arr2=np.array([[1,2,3,4],[5,6,7,8],[9,10,11,12]])\n",
    "arr2"
   ]
  },
  {
   "cell_type": "code",
   "execution_count": 8,
   "id": "c0f8d955-6e25-42b4-aaab-c26759013d78",
   "metadata": {},
   "outputs": [
    {
     "data": {
      "text/plain": [
       "array([1, 2, 3, 4])"
      ]
     },
     "execution_count": 8,
     "metadata": {},
     "output_type": "execute_result"
    }
   ],
   "source": [
    "arr2[0]"
   ]
  },
  {
   "cell_type": "code",
   "execution_count": 9,
   "id": "f442b3a5-58ac-4a1a-b5a3-8be5d388af7d",
   "metadata": {},
   "outputs": [
    {
     "data": {
      "text/plain": [
       "array([[ 1,  2,  3,  4],\n",
       "       [ 5,  6,  7,  8],\n",
       "       [ 9, 10, 11, 12]])"
      ]
     },
     "execution_count": 9,
     "metadata": {},
     "output_type": "execute_result"
    }
   ],
   "source": [
    "# 5. How ^o you access the element at the thir^ row an^ fourth column from the given numpy array?\n",
    "# [[1, 2, 3, 4]\n",
    "# [5, 6, 7, 8],\n",
    "# [9, 10, 11, 12]]\n",
    "arr3=np.array([[1,2,3,4],[5,6,7,8],[9,10,11,12]])\n",
    "arr3"
   ]
  },
  {
   "cell_type": "code",
   "execution_count": 16,
   "id": "ffd2c7d5-25e9-41fb-baec-ad7dd2df2812",
   "metadata": {},
   "outputs": [
    {
     "data": {
      "text/plain": [
       "12"
      ]
     },
     "execution_count": 16,
     "metadata": {},
     "output_type": "execute_result"
    }
   ],
   "source": [
    "arr3[2,3]"
   ]
  },
  {
   "cell_type": "code",
   "execution_count": 18,
   "id": "d0768c68-a91c-4e5f-ac93-37d48781dfbe",
   "metadata": {},
   "outputs": [
    {
     "data": {
      "text/plain": [
       "array([[ 1,  2,  3,  4],\n",
       "       [ 5,  6,  7,  8],\n",
       "       [ 9, 10, 11, 12]])"
      ]
     },
     "execution_count": 18,
     "metadata": {},
     "output_type": "execute_result"
    }
   ],
   "source": [
    "# 6. Write co^e to extract all o^^-in^exe^ elements from the given numpy array?\n",
    "# [[1, 2, 3, 4]\n",
    "# [5, 6, 7, 8],\n",
    "# [9, 10, 11, 12]]\n",
    "arr4=np.array([[1,2,3,4],[5,6,7,8],[9,10,11,12]])\n",
    "arr4"
   ]
  },
  {
   "cell_type": "code",
   "execution_count": 19,
   "id": "25ebddde-353d-4e87-a67d-f4814169e9e4",
   "metadata": {},
   "outputs": [
    {
     "data": {
      "text/plain": [
       "array([ 1,  3,  5,  7,  9, 11])"
      ]
     },
     "execution_count": 19,
     "metadata": {},
     "output_type": "execute_result"
    }
   ],
   "source": [
    "arr4[arr4%2!=0]"
   ]
  },
  {
   "cell_type": "code",
   "execution_count": 24,
   "id": "d2d3c48d-0650-4501-89bd-8d09ec060b07",
   "metadata": {},
   "outputs": [
    {
     "data": {
      "text/plain": [
       "array([[0.95447663, 0.38332299, 0.63845375],\n",
       "       [0.47470983, 0.20003164, 0.34230449],\n",
       "       [0.40136391, 0.51322265, 0.86404311]])"
      ]
     },
     "execution_count": 24,
     "metadata": {},
     "output_type": "execute_result"
    }
   ],
   "source": [
    "# 7. How can you generate a ran^om 3x3 matrix with values between 0 an^ 1?\n",
    "arr5=np.random.rand(3,3)\n",
    "arr5"
   ]
  },
  {
   "cell_type": "markdown",
   "id": "2a2cc142-00e1-412d-8784-113df14e389d",
   "metadata": {},
   "source": [
    "8. Describe the ^ifference between np.ran^om.ran^ an^ np.ran^om.ran^n?\n",
    "ANs:\n",
    "\n",
    "In NumPy, there is a distinction between np.random.rand and np.random.randn. Both functions are used to generate random numbers, but they have different distributions.\n",
    "\n",
    "1. np.random.rand:\n",
    "\n",
    "-This function generates random numbers from a uniform distribution over the interval [0, 1)\n",
    "-The syntax is np.random.rand(d0, d1, ..., dn), where d0, d1, ..., dn are the dimensions of the output array.\n",
    "-Each value in the output array is sampled independently and uniformly from the range [0, 1).\n",
    "\n",
    "Example:\n",
    "# Generate a 1D array of 5 random numbers between 0 and \n",
    "random_array = np.random.rand(5)\n",
    "\n",
    "----------------------------------------------------\n",
    "2.np.random.randn:\n",
    "\n",
    "This function generates random numbers from a standard normal distribution (mean = 0, standard deviation = 1).\n",
    "The syntax is np.random.randn(d0, d1, ..., dn), where d0, d1, ..., dn are the dimensions of the output array.\n",
    "The values in the output array are drawn from a Gaussian distribution with mean 0 and standard deviation 1.\n",
    "Example:\n",
    "\n",
    "# Generate a 1D array of 5 random numbers from a standard normal distribution\n",
    "random_array = np.random.randn(5)\n"
   ]
  },
  {
   "cell_type": "code",
   "execution_count": 25,
   "id": "c96be013-cf29-4822-8218-df26ba3ef278",
   "metadata": {},
   "outputs": [
    {
     "data": {
      "text/plain": [
       "array([[ 1,  2,  3,  4],\n",
       "       [ 5,  6,  7,  8],\n",
       "       [ 9, 10, 11, 12]])"
      ]
     },
     "execution_count": 25,
     "metadata": {},
     "output_type": "execute_result"
    }
   ],
   "source": [
    "# 9. Write co^e to increase the ^imension of the following array?\n",
    "# [[1, 2, 3, 4]\n",
    "# [5, 6, 7, 8],\n",
    "# [9, 10, 11, 12]]\n",
    "arr5=np.array([[1,2,3,4],[5,6,7,8],[9,10,11,12]])\n",
    "arr5"
   ]
  },
  {
   "cell_type": "code",
   "execution_count": 26,
   "id": "c645287c-22a8-4790-9fb6-6bb77b243015",
   "metadata": {},
   "outputs": [
    {
     "data": {
      "text/plain": [
       "2"
      ]
     },
     "execution_count": 26,
     "metadata": {},
     "output_type": "execute_result"
    }
   ],
   "source": [
    "arr5.ndim"
   ]
  },
  {
   "cell_type": "code",
   "execution_count": 27,
   "id": "71f8938b-26a1-4c4a-a751-f091e5e89eff",
   "metadata": {},
   "outputs": [
    {
     "data": {
      "text/plain": [
       "12"
      ]
     },
     "execution_count": 27,
     "metadata": {},
     "output_type": "execute_result"
    }
   ],
   "source": [
    "arr5.size"
   ]
  },
  {
   "cell_type": "code",
   "execution_count": 29,
   "id": "e3539f11-34ec-4773-b0c9-3f2b562747c5",
   "metadata": {},
   "outputs": [],
   "source": [
    "arr6=arr5.reshape(1,3,4)"
   ]
  },
  {
   "cell_type": "code",
   "execution_count": 30,
   "id": "521e797e-8bcb-4197-891c-bfb7d540f55f",
   "metadata": {},
   "outputs": [
    {
     "data": {
      "text/plain": [
       "array([[[ 1,  2,  3,  4],\n",
       "        [ 5,  6,  7,  8],\n",
       "        [ 9, 10, 11, 12]]])"
      ]
     },
     "execution_count": 30,
     "metadata": {},
     "output_type": "execute_result"
    }
   ],
   "source": [
    "arr6"
   ]
  },
  {
   "cell_type": "code",
   "execution_count": 31,
   "id": "7c8a08cd-7045-4991-b3dd-b0f0876f1bd4",
   "metadata": {},
   "outputs": [
    {
     "data": {
      "text/plain": [
       "3"
      ]
     },
     "execution_count": 31,
     "metadata": {},
     "output_type": "execute_result"
    }
   ],
   "source": [
    "arr6.ndim"
   ]
  },
  {
   "cell_type": "code",
   "execution_count": 32,
   "id": "73afba7e-531f-442e-8446-115a531593d1",
   "metadata": {},
   "outputs": [
    {
     "data": {
      "text/plain": [
       "array([[ 1,  2,  3,  4],\n",
       "       [ 5,  6,  7,  8],\n",
       "       [ 9, 10, 11, 12]])"
      ]
     },
     "execution_count": 32,
     "metadata": {},
     "output_type": "execute_result"
    }
   ],
   "source": [
    "# 10. How to transpose the following array in NumPy?\n",
    "# [[1, 2, 3, 4]\n",
    "# [5, 6, 7, 8],\n",
    "# [9, 10, 11, 12]]\n",
    "arr7=np.array([[1,2,3,4],[5,6,7,8],[9,10,11,12]])\n",
    "arr7"
   ]
  },
  {
   "cell_type": "code",
   "execution_count": 33,
   "id": "4bbefe15-4417-4c62-a179-7ca6265f0960",
   "metadata": {},
   "outputs": [
    {
     "data": {
      "text/plain": [
       "array([[ 1,  5,  9],\n",
       "       [ 2,  6, 10],\n",
       "       [ 3,  7, 11],\n",
       "       [ 4,  8, 12]])"
      ]
     },
     "execution_count": 33,
     "metadata": {},
     "output_type": "execute_result"
    }
   ],
   "source": [
    "arr7.transpose()"
   ]
  },
  {
   "cell_type": "code",
   "execution_count": 68,
   "id": "e9ea0b5d-258f-4d7c-886c-db70c95c6d86",
   "metadata": {},
   "outputs": [
    {
     "data": {
      "text/plain": [
       "matrix([[ 1,  2,  3,  4],\n",
       "        [ 5,  6,  7,  8],\n",
       "        [ 9, 10, 11, 12]])"
      ]
     },
     "execution_count": 68,
     "metadata": {},
     "output_type": "execute_result"
    }
   ],
   "source": [
    "# 11. Consi^er the following matrix:\n",
    "# Matrix A2 [[1, 2, 3, 4] [5, 6, 7, 8],[9, 10, 11, 12]]\n",
    "# Matrix B2 [[1, 2, 3, 4] [5, 6, 7, 8],[9, 10, 11, 12]]\n",
    "# Perform the following operation using Python1\n",
    "# ,+ I(dex wiLe multiplicatio'\n",
    "# ]+ Mat\u001bix multiplicatio'\n",
    "# \u001a+ Add both the mat\u001bicK\n",
    "# -+ Subt\u001bact mat\u001bix B \u0014\u001bom\n",
    "A=np.matrix([[1,2,3,4],[5,6,7,8],[9,10,11,12]])\n",
    "B=np.matrix([[1,2,3,4],[5,6,7,8],[9,10,11,12]])\n",
    "A"
   ]
  },
  {
   "cell_type": "code",
   "execution_count": 69,
   "id": "91c99bf7-e61f-4f05-8a65-ba6d4e587c63",
   "metadata": {},
   "outputs": [
    {
     "data": {
      "text/plain": [
       "matrix([[ 1,  2,  3,  4],\n",
       "        [ 5,  6,  7,  8],\n",
       "        [ 9, 10, 11, 12]])"
      ]
     },
     "execution_count": 69,
     "metadata": {},
     "output_type": "execute_result"
    }
   ],
   "source": [
    "B"
   ]
  },
  {
   "cell_type": "code",
   "execution_count": 76,
   "id": "97adecc8-3e43-4b56-bf24-b6a733e4c473",
   "metadata": {},
   "outputs": [
    {
     "data": {
      "text/plain": [
       "array([[  1,   4,   9,  16],\n",
       "       [ 25,  36,  49,  64],\n",
       "       [ 81, 100, 121, 144]])"
      ]
     },
     "execution_count": 76,
     "metadata": {},
     "output_type": "execute_result"
    }
   ],
   "source": [
    "# index_multiplication\n",
    "a=np.array(A)\n",
    "b=np.array(B)\n",
    "multiply_index=np.multiply(a,b)\n",
    "multiply_index"
   ]
  },
  {
   "cell_type": "code",
   "execution_count": 70,
   "id": "7ed1c950-1bbb-4662-80e2-9453d3bdcbb1",
   "metadata": {},
   "outputs": [
    {
     "data": {
      "text/plain": [
       "matrix([[ 30,  70, 110],\n",
       "        [ 70, 174, 278],\n",
       "        [110, 278, 446]])"
      ]
     },
     "execution_count": 70,
     "metadata": {},
     "output_type": "execute_result"
    }
   ],
   "source": [
    "multiplication=np.dot(A,B.T)\n",
    "multiplication"
   ]
  },
  {
   "cell_type": "code",
   "execution_count": 72,
   "id": "c0a49138-1007-4707-8ebf-3a8a65a5160b",
   "metadata": {},
   "outputs": [
    {
     "data": {
      "text/plain": [
       "matrix([[ 2,  4,  6,  8],\n",
       "        [10, 12, 14, 16],\n",
       "        [18, 20, 22, 24]])"
      ]
     },
     "execution_count": 72,
     "metadata": {},
     "output_type": "execute_result"
    }
   ],
   "source": [
    "Add=A+B\n",
    "Add"
   ]
  },
  {
   "cell_type": "code",
   "execution_count": 73,
   "id": "4f7b04a0-8a23-49d4-966b-12adfc06d8b0",
   "metadata": {},
   "outputs": [
    {
     "data": {
      "text/plain": [
       "matrix([[0, 0, 0, 0],\n",
       "        [0, 0, 0, 0],\n",
       "        [0, 0, 0, 0]])"
      ]
     },
     "execution_count": 73,
     "metadata": {},
     "output_type": "execute_result"
    }
   ],
   "source": [
    "Subtract=B-A\n",
    "Subtract"
   ]
  },
  {
   "cell_type": "code",
   "execution_count": 74,
   "id": "ee24f59d-41c0-41e0-a570-e57a2edd7247",
   "metadata": {},
   "outputs": [
    {
     "data": {
      "text/plain": [
       "matrix([[1., 1., 1., 1.],\n",
       "        [1., 1., 1., 1.],\n",
       "        [1., 1., 1., 1.]])"
      ]
     },
     "execution_count": 74,
     "metadata": {},
     "output_type": "execute_result"
    }
   ],
   "source": [
    "Divide=B/A\n",
    "Divide"
   ]
  },
  {
   "cell_type": "markdown",
   "id": "457a9a33-3de8-47b2-abb0-9a64af40b2c5",
   "metadata": {},
   "source": [
    "12.  Which function in Numpy can be use^ to swap the byte or^er of an array?\n",
    "Ans:\n",
    "In NumPy, the byteswap() function can be used to swap the byte order (endianness) of an array. This function swaps the byte order of the elements in the array in-place.\n",
    "\n",
    "Example:"
   ]
  },
  {
   "cell_type": "code",
   "execution_count": 77,
   "id": "0237b0a0-eb1e-4835-8d19-34774d70b4eb",
   "metadata": {},
   "outputs": [
    {
     "name": "stdout",
     "output_type": "stream",
     "text": [
      "Original array: [  1 256]\n",
      "Array with byte order swapped: [256   1]\n"
     ]
    }
   ],
   "source": [
    "arr = np.array([1, 256], dtype=np.int16)  # Example array with two elements: 1 and 256\n",
    "arr_swapped = arr.byteswap()\n",
    "print(\"Original array:\", arr)\n",
    "print(\"Array with byte order swapped:\", arr_swapped)\n"
   ]
  },
  {
   "cell_type": "markdown",
   "id": "e3de108d-db6f-426b-9fc1-07b98a31d6fd",
   "metadata": {},
   "source": [
    "13.  What is the significance of the np.linalg.inv function?\n",
    "Ans:The `np.linalg.inv()` function in NumPy is used to compute the inverse of a square matrix. The significance of this function lies in various mathematical and computational applications, particularly in linear algebra and solving systems of linear equations.\n",
    "\n",
    "Here are some key points about the significance of `np.linalg.inv()`:\n",
    "\n",
    "1. Solving Linear Systems**: One of the primary uses of matrix inversion is in solving systems of linear equations. Given a system of equations represented by the matrix equation Ax = b, where A is a square matrix of coefficients, x is the vector of unknowns, and b is the constant vector, you can solve for x by computing the inverse of A: x = A⁻¹b. This is particularly useful when you need to solve systems of equations with multiple variables.\n",
    "\n",
    "2. Computing Determinants**: The inverse of a matrix A can also be used to compute the determinant of A. Specifically, the determinant of A is equal to 1/det(A⁻¹). This relationship is often exploited in various numerical algorithms and theoretical calculations.\n",
    "\n",
    "3. Computational Efficiency**: While computing the inverse of a matrix using traditional methods can be computationally expensive, NumPy's `np.linalg.inv()` function is optimized for performance. It uses efficient algorithms, such as LU decomposition, to compute the inverse of the matrix quickly and accurately.\n",
    "\n",
    "4. Applications in Statistics and Optimization**: Matrix inversion is a fundamental operation in various fields such as statistics, optimization, and machine learning. It is used in techniques like linear regression, least squares estimation, and parameter estimation in probabilistic models.\n",
    "\n",
    "5. Checking Singularity**: The `np.linalg.inv()` function can also be used to check if a matrix is singular (i.e., non-invertible). If the determinant of the matrix is zero, it implies that the matrix is singular, and its inverse does not exist."
   ]
  },
  {
   "cell_type": "markdown",
   "id": "c646af13-9584-4e77-97b4-9bfff0c4a41b",
   "metadata": {},
   "source": [
    "14. What ^oes the np.reshape function ^o, an^ how is it use^?\n",
    "Ans:\n",
    "The np.reshape() function in NumPy is used to change the shape (dimensions) of an array without changing its data. It allows you to rearrange the elements of an array into a new shape while preserving the total number of elements.\n",
    "\n",
    "It's important to note that the total number of elements in the reshaped array must be equal to the total number of elements in the original array. Otherwise, np.reshape() will raise a ValueError. Additionally, reshaping doesn't change the underlying data; it only changes the way the data is interpreted based on the new shape.\n",
    "\n",
    "Example:"
   ]
  },
  {
   "cell_type": "code",
   "execution_count": 79,
   "id": "72f0a02c-168b-413b-874f-53f8e7c3cb25",
   "metadata": {},
   "outputs": [
    {
     "name": "stdout",
     "output_type": "stream",
     "text": [
      "Original array:\n",
      "[0 1 2 3 4 5 6 7 8]\n",
      "\n",
      "Reshaped array:\n",
      "[[0 1 2]\n",
      " [3 4 5]\n",
      " [6 7 8]]\n"
     ]
    }
   ],
   "source": [
    "arr = np.arange(9)\n",
    "reshaped_arr = np.reshape(arr, (3, 3))\n",
    "print(\"Original array:\")\n",
    "print(arr)\n",
    "print(\"\\nReshaped array:\")\n",
    "print(reshaped_arr)\n"
   ]
  },
  {
   "cell_type": "markdown",
   "id": "05eda146-5286-4d36-aaf5-9ffb5d5f4f0a",
   "metadata": {},
   "source": [
    "15. What is broa^casting in Numpy?\n",
    "Ans:\n",
    "Broadcasting in NumPy is a powerful mechanism that allows arrays of different shapes to be combined in arithmetic operations. It enables you to perform element-wise operations between arrays of different shapes without explicitly reshaping or duplicating the smaller array to match the shape of the larger array.\n",
    "\n",
    "The basic concept of broadcasting can be summarized as follows:\n",
    "\n",
    "1. Shape Compatibility**: Broadcasting begins when NumPy tries to perform an operation on arrays with different shapes. NumPy compares their shapes element-wise, starting from the trailing dimensions (i.e., the rightmost dimensions) and working backward. Two dimensions are considered compatible when:\n",
    "   - They are equal, or\n",
    "   - One of them is 1.\n",
    "\n",
    "2. Broadcasting Rule**: Once NumPy identifies compatible dimensions, it automatically \"broadcasts\" the smaller array to match the shape of the larger array by replicating its elements along the dimensions where its size is 1.\n",
    "\n",
    "3. Element-Wise Operation**: After broadcasting, NumPy performs the element-wise operation between the two arrays as if they were the same shape.\n",
    "\n",
    "Broadcasting simplifies array operations, making code more concise and readable, and often eliminates the need for explicit loops or reshaping operations. However, it's essential to understand how broadcasting works to avoid unexpected results or errors in your code."
   ]
  },
  {
   "cell_type": "code",
   "execution_count": 80,
   "id": "d7968382-186a-49c9-b7c3-430f97c8ca94",
   "metadata": {},
   "outputs": [
    {
     "name": "stdout",
     "output_type": "stream",
     "text": [
      "[[11 12 13]\n",
      " [21 22 23]\n",
      " [31 32 33]]\n"
     ]
    }
   ],
   "source": [
    "arr1 = np.array([1, 2, 3])         # shape: (3,)\n",
    "arr2 = np.array([[10], [20], [30]]) # shape: (3, 1)\n",
    "result = arr1 + arr2\n",
    "print(result)\n"
   ]
  }
 ],
 "metadata": {
  "kernelspec": {
   "display_name": "Python 3 (ipykernel)",
   "language": "python",
   "name": "python3"
  },
  "language_info": {
   "codemirror_mode": {
    "name": "ipython",
    "version": 3
   },
   "file_extension": ".py",
   "mimetype": "text/x-python",
   "name": "python",
   "nbconvert_exporter": "python",
   "pygments_lexer": "ipython3",
   "version": "3.10.8"
  }
 },
 "nbformat": 4,
 "nbformat_minor": 5
}
